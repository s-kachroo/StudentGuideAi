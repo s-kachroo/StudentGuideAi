{
 "cells": [
  {
   "metadata": {
    "ExecuteTime": {
     "end_time": "2025-04-07T19:11:49.793833Z",
     "start_time": "2025-04-07T19:11:48.420735Z"
    }
   },
   "cell_type": "code",
   "source": "# !pip install sentence-transformers chromadb pypdf openai tqdm",
   "id": "6fd3d6c3a3ca551b",
   "outputs": [
    {
     "name": "stderr",
     "output_type": "stream",
     "text": [
      "huggingface/tokenizers: The current process just got forked, after parallelism has already been used. Disabling parallelism to avoid deadlocks...\n",
      "To disable this warning, you can either:\n",
      "\t- Avoid using `tokenizers` before the fork if possible\n",
      "\t- Explicitly set the environment variable TOKENIZERS_PARALLELISM=(true | false)\n"
     ]
    },
    {
     "name": "stdout",
     "output_type": "stream",
     "text": [
      "Requirement already satisfied: sentence-transformers in /opt/anaconda3/lib/python3.12/site-packages (4.0.2)\r\n",
      "Requirement already satisfied: chromadb in /opt/anaconda3/lib/python3.12/site-packages (0.6.3)\r\n",
      "Requirement already satisfied: pypdf in /opt/anaconda3/lib/python3.12/site-packages (4.2.0)\r\n",
      "Requirement already satisfied: openai in /opt/anaconda3/lib/python3.12/site-packages (1.65.0)\r\n",
      "Requirement already satisfied: tqdm in /opt/anaconda3/lib/python3.12/site-packages (4.66.4)\r\n",
      "Requirement already satisfied: transformers<5.0.0,>=4.41.0 in /opt/anaconda3/lib/python3.12/site-packages (from sentence-transformers) (4.49.0)\r\n",
      "Requirement already satisfied: torch>=1.11.0 in /opt/anaconda3/lib/python3.12/site-packages (from sentence-transformers) (2.6.0)\r\n",
      "Requirement already satisfied: scikit-learn in /opt/anaconda3/lib/python3.12/site-packages (from sentence-transformers) (1.4.2)\r\n",
      "Requirement already satisfied: scipy in /opt/anaconda3/lib/python3.12/site-packages (from sentence-transformers) (1.13.1)\r\n",
      "Requirement already satisfied: huggingface-hub>=0.20.0 in /opt/anaconda3/lib/python3.12/site-packages (from sentence-transformers) (0.29.1)\r\n",
      "Requirement already satisfied: Pillow in /opt/anaconda3/lib/python3.12/site-packages (from sentence-transformers) (10.3.0)\r\n",
      "Requirement already satisfied: typing_extensions>=4.5.0 in /opt/anaconda3/lib/python3.12/site-packages (from sentence-transformers) (4.12.2)\r\n",
      "Requirement already satisfied: build>=1.0.3 in /opt/anaconda3/lib/python3.12/site-packages (from chromadb) (1.2.2.post1)\r\n",
      "Requirement already satisfied: pydantic>=1.9 in /opt/anaconda3/lib/python3.12/site-packages (from chromadb) (2.10.4)\r\n",
      "Requirement already satisfied: chroma-hnswlib==0.7.6 in /opt/anaconda3/lib/python3.12/site-packages (from chromadb) (0.7.6)\r\n",
      "Requirement already satisfied: fastapi>=0.95.2 in /opt/anaconda3/lib/python3.12/site-packages (from chromadb) (0.115.9)\r\n",
      "Requirement already satisfied: uvicorn>=0.18.3 in /opt/anaconda3/lib/python3.12/site-packages (from uvicorn[standard]>=0.18.3->chromadb) (0.34.0)\r\n",
      "Requirement already satisfied: numpy>=1.22.5 in /opt/anaconda3/lib/python3.12/site-packages (from chromadb) (1.26.4)\r\n",
      "Requirement already satisfied: posthog>=2.4.0 in /opt/anaconda3/lib/python3.12/site-packages (from chromadb) (3.16.0)\r\n",
      "Requirement already satisfied: onnxruntime>=1.14.1 in /opt/anaconda3/lib/python3.12/site-packages (from chromadb) (1.20.1)\r\n",
      "Requirement already satisfied: opentelemetry-api>=1.2.0 in /opt/anaconda3/lib/python3.12/site-packages (from chromadb) (1.30.0)\r\n",
      "Requirement already satisfied: opentelemetry-exporter-otlp-proto-grpc>=1.2.0 in /opt/anaconda3/lib/python3.12/site-packages (from chromadb) (1.30.0)\r\n",
      "Requirement already satisfied: opentelemetry-instrumentation-fastapi>=0.41b0 in /opt/anaconda3/lib/python3.12/site-packages (from chromadb) (0.51b0)\r\n",
      "Requirement already satisfied: opentelemetry-sdk>=1.2.0 in /opt/anaconda3/lib/python3.12/site-packages (from chromadb) (1.30.0)\r\n",
      "Requirement already satisfied: tokenizers>=0.13.2 in /opt/anaconda3/lib/python3.12/site-packages (from chromadb) (0.21.0)\r\n",
      "Requirement already satisfied: pypika>=0.48.9 in /opt/anaconda3/lib/python3.12/site-packages (from chromadb) (0.48.9)\r\n",
      "Requirement already satisfied: overrides>=7.3.1 in /opt/anaconda3/lib/python3.12/site-packages (from chromadb) (7.4.0)\r\n",
      "Requirement already satisfied: importlib-resources in /opt/anaconda3/lib/python3.12/site-packages (from chromadb) (6.5.2)\r\n",
      "Requirement already satisfied: grpcio>=1.58.0 in /opt/anaconda3/lib/python3.12/site-packages (from chromadb) (1.68.1)\r\n",
      "Requirement already satisfied: bcrypt>=4.0.1 in /opt/anaconda3/lib/python3.12/site-packages (from chromadb) (4.0.1)\r\n",
      "Requirement already satisfied: typer>=0.9.0 in /opt/anaconda3/lib/python3.12/site-packages (from chromadb) (0.15.1)\r\n",
      "Requirement already satisfied: kubernetes>=28.1.0 in /opt/anaconda3/lib/python3.12/site-packages (from chromadb) (32.0.1)\r\n",
      "Requirement already satisfied: tenacity>=8.2.3 in /opt/anaconda3/lib/python3.12/site-packages (from chromadb) (9.0.0)\r\n",
      "Requirement already satisfied: PyYAML>=6.0.0 in /opt/anaconda3/lib/python3.12/site-packages (from chromadb) (6.0.1)\r\n",
      "Requirement already satisfied: mmh3>=4.0.1 in /opt/anaconda3/lib/python3.12/site-packages (from chromadb) (5.1.0)\r\n",
      "Requirement already satisfied: orjson>=3.9.12 in /opt/anaconda3/lib/python3.12/site-packages (from chromadb) (3.10.15)\r\n",
      "Requirement already satisfied: httpx>=0.27.0 in /opt/anaconda3/lib/python3.12/site-packages (from chromadb) (0.27.0)\r\n",
      "Requirement already satisfied: rich>=10.11.0 in /opt/anaconda3/lib/python3.12/site-packages (from chromadb) (13.3.5)\r\n",
      "Requirement already satisfied: anyio<5,>=3.5.0 in /opt/anaconda3/lib/python3.12/site-packages (from openai) (4.2.0)\r\n",
      "Requirement already satisfied: distro<2,>=1.7.0 in /opt/anaconda3/lib/python3.12/site-packages (from openai) (1.9.0)\r\n",
      "Requirement already satisfied: jiter<1,>=0.4.0 in /opt/anaconda3/lib/python3.12/site-packages (from openai) (0.8.2)\r\n",
      "Requirement already satisfied: sniffio in /opt/anaconda3/lib/python3.12/site-packages (from openai) (1.3.0)\r\n",
      "Requirement already satisfied: idna>=2.8 in /opt/anaconda3/lib/python3.12/site-packages (from anyio<5,>=3.5.0->openai) (3.7)\r\n",
      "Requirement already satisfied: packaging>=19.1 in /opt/anaconda3/lib/python3.12/site-packages (from build>=1.0.3->chromadb) (23.2)\r\n",
      "Requirement already satisfied: pyproject_hooks in /opt/anaconda3/lib/python3.12/site-packages (from build>=1.0.3->chromadb) (1.2.0)\r\n",
      "Requirement already satisfied: starlette<0.46.0,>=0.40.0 in /opt/anaconda3/lib/python3.12/site-packages (from fastapi>=0.95.2->chromadb) (0.45.3)\r\n",
      "Requirement already satisfied: certifi in /opt/anaconda3/lib/python3.12/site-packages (from httpx>=0.27.0->chromadb) (2025.1.31)\r\n",
      "Requirement already satisfied: httpcore==1.* in /opt/anaconda3/lib/python3.12/site-packages (from httpx>=0.27.0->chromadb) (1.0.2)\r\n",
      "Requirement already satisfied: h11<0.15,>=0.13 in /opt/anaconda3/lib/python3.12/site-packages (from httpcore==1.*->httpx>=0.27.0->chromadb) (0.14.0)\r\n",
      "Requirement already satisfied: filelock in /opt/anaconda3/lib/python3.12/site-packages (from huggingface-hub>=0.20.0->sentence-transformers) (3.13.1)\r\n",
      "Requirement already satisfied: fsspec>=2023.5.0 in /opt/anaconda3/lib/python3.12/site-packages (from huggingface-hub>=0.20.0->sentence-transformers) (2024.3.1)\r\n",
      "Requirement already satisfied: requests in /opt/anaconda3/lib/python3.12/site-packages (from huggingface-hub>=0.20.0->sentence-transformers) (2.32.3)\r\n",
      "Requirement already satisfied: six>=1.9.0 in /opt/anaconda3/lib/python3.12/site-packages (from kubernetes>=28.1.0->chromadb) (1.16.0)\r\n",
      "Requirement already satisfied: python-dateutil>=2.5.3 in /opt/anaconda3/lib/python3.12/site-packages (from kubernetes>=28.1.0->chromadb) (2.9.0.post0)\r\n",
      "Requirement already satisfied: google-auth>=1.0.1 in /opt/anaconda3/lib/python3.12/site-packages (from kubernetes>=28.1.0->chromadb) (2.37.0)\r\n",
      "Requirement already satisfied: websocket-client!=0.40.0,!=0.41.*,!=0.42.*,>=0.32.0 in /opt/anaconda3/lib/python3.12/site-packages (from kubernetes>=28.1.0->chromadb) (1.8.0)\r\n",
      "Requirement already satisfied: requests-oauthlib in /opt/anaconda3/lib/python3.12/site-packages (from kubernetes>=28.1.0->chromadb) (2.0.0)\r\n",
      "Requirement already satisfied: oauthlib>=3.2.2 in /opt/anaconda3/lib/python3.12/site-packages (from kubernetes>=28.1.0->chromadb) (3.2.2)\r\n",
      "Requirement already satisfied: urllib3>=1.24.2 in /opt/anaconda3/lib/python3.12/site-packages (from kubernetes>=28.1.0->chromadb) (1.26.20)\r\n",
      "Requirement already satisfied: durationpy>=0.7 in /opt/anaconda3/lib/python3.12/site-packages (from kubernetes>=28.1.0->chromadb) (0.9)\r\n",
      "Requirement already satisfied: coloredlogs in /opt/anaconda3/lib/python3.12/site-packages (from onnxruntime>=1.14.1->chromadb) (15.0.1)\r\n",
      "Requirement already satisfied: flatbuffers in /opt/anaconda3/lib/python3.12/site-packages (from onnxruntime>=1.14.1->chromadb) (25.2.10)\r\n",
      "Requirement already satisfied: protobuf in /opt/anaconda3/lib/python3.12/site-packages (from onnxruntime>=1.14.1->chromadb) (5.29.2)\r\n",
      "Requirement already satisfied: sympy in /opt/anaconda3/lib/python3.12/site-packages (from onnxruntime>=1.14.1->chromadb) (1.13.1)\r\n",
      "Requirement already satisfied: deprecated>=1.2.6 in /opt/anaconda3/lib/python3.12/site-packages (from opentelemetry-api>=1.2.0->chromadb) (1.2.15)\r\n",
      "Requirement already satisfied: importlib-metadata<=8.5.0,>=6.0 in /opt/anaconda3/lib/python3.12/site-packages (from opentelemetry-api>=1.2.0->chromadb) (7.0.1)\r\n",
      "Requirement already satisfied: googleapis-common-protos~=1.52 in /opt/anaconda3/lib/python3.12/site-packages (from opentelemetry-exporter-otlp-proto-grpc>=1.2.0->chromadb) (1.66.0)\r\n",
      "Requirement already satisfied: opentelemetry-exporter-otlp-proto-common==1.30.0 in /opt/anaconda3/lib/python3.12/site-packages (from opentelemetry-exporter-otlp-proto-grpc>=1.2.0->chromadb) (1.30.0)\r\n",
      "Requirement already satisfied: opentelemetry-proto==1.30.0 in /opt/anaconda3/lib/python3.12/site-packages (from opentelemetry-exporter-otlp-proto-grpc>=1.2.0->chromadb) (1.30.0)\r\n",
      "Requirement already satisfied: opentelemetry-instrumentation-asgi==0.51b0 in /opt/anaconda3/lib/python3.12/site-packages (from opentelemetry-instrumentation-fastapi>=0.41b0->chromadb) (0.51b0)\r\n",
      "Requirement already satisfied: opentelemetry-instrumentation==0.51b0 in /opt/anaconda3/lib/python3.12/site-packages (from opentelemetry-instrumentation-fastapi>=0.41b0->chromadb) (0.51b0)\r\n",
      "Requirement already satisfied: opentelemetry-semantic-conventions==0.51b0 in /opt/anaconda3/lib/python3.12/site-packages (from opentelemetry-instrumentation-fastapi>=0.41b0->chromadb) (0.51b0)\r\n",
      "Requirement already satisfied: opentelemetry-util-http==0.51b0 in /opt/anaconda3/lib/python3.12/site-packages (from opentelemetry-instrumentation-fastapi>=0.41b0->chromadb) (0.51b0)\r\n",
      "Requirement already satisfied: wrapt<2.0.0,>=1.0.0 in /opt/anaconda3/lib/python3.12/site-packages (from opentelemetry-instrumentation==0.51b0->opentelemetry-instrumentation-fastapi>=0.41b0->chromadb) (1.14.1)\r\n",
      "Requirement already satisfied: asgiref~=3.0 in /opt/anaconda3/lib/python3.12/site-packages (from opentelemetry-instrumentation-asgi==0.51b0->opentelemetry-instrumentation-fastapi>=0.41b0->chromadb) (3.8.1)\r\n",
      "Requirement already satisfied: monotonic>=1.5 in /opt/anaconda3/lib/python3.12/site-packages (from posthog>=2.4.0->chromadb) (1.6)\r\n",
      "Requirement already satisfied: backoff>=1.10.0 in /opt/anaconda3/lib/python3.12/site-packages (from posthog>=2.4.0->chromadb) (2.2.1)\r\n",
      "Requirement already satisfied: annotated-types>=0.6.0 in /opt/anaconda3/lib/python3.12/site-packages (from pydantic>=1.9->chromadb) (0.6.0)\r\n",
      "Requirement already satisfied: pydantic-core==2.27.2 in /opt/anaconda3/lib/python3.12/site-packages (from pydantic>=1.9->chromadb) (2.27.2)\r\n",
      "Requirement already satisfied: markdown-it-py<3.0.0,>=2.2.0 in /opt/anaconda3/lib/python3.12/site-packages (from rich>=10.11.0->chromadb) (2.2.0)\r\n",
      "Requirement already satisfied: pygments<3.0.0,>=2.13.0 in /opt/anaconda3/lib/python3.12/site-packages (from rich>=10.11.0->chromadb) (2.15.1)\r\n",
      "Requirement already satisfied: networkx in /opt/anaconda3/lib/python3.12/site-packages (from torch>=1.11.0->sentence-transformers) (3.2.1)\r\n",
      "Requirement already satisfied: jinja2 in /opt/anaconda3/lib/python3.12/site-packages (from torch>=1.11.0->sentence-transformers) (3.1.4)\r\n",
      "Requirement already satisfied: setuptools in /opt/anaconda3/lib/python3.12/site-packages (from torch>=1.11.0->sentence-transformers) (75.6.0)\r\n",
      "Requirement already satisfied: mpmath<1.4,>=1.1.0 in /opt/anaconda3/lib/python3.12/site-packages (from sympy->onnxruntime>=1.14.1->chromadb) (1.3.0)\r\n",
      "Requirement already satisfied: regex!=2019.12.17 in /opt/anaconda3/lib/python3.12/site-packages (from transformers<5.0.0,>=4.41.0->sentence-transformers) (2023.10.3)\r\n",
      "Requirement already satisfied: safetensors>=0.4.1 in /opt/anaconda3/lib/python3.12/site-packages (from transformers<5.0.0,>=4.41.0->sentence-transformers) (0.5.3)\r\n",
      "Requirement already satisfied: click>=8.0.0 in /opt/anaconda3/lib/python3.12/site-packages (from typer>=0.9.0->chromadb) (8.1.7)\r\n",
      "Requirement already satisfied: shellingham>=1.3.0 in /opt/anaconda3/lib/python3.12/site-packages (from typer>=0.9.0->chromadb) (1.5.4)\r\n",
      "Requirement already satisfied: httptools>=0.6.3 in /opt/anaconda3/lib/python3.12/site-packages (from uvicorn[standard]>=0.18.3->chromadb) (0.6.4)\r\n",
      "Requirement already satisfied: python-dotenv>=0.13 in /opt/anaconda3/lib/python3.12/site-packages (from uvicorn[standard]>=0.18.3->chromadb) (0.21.0)\r\n",
      "Requirement already satisfied: uvloop!=0.15.0,!=0.15.1,>=0.14.0 in /opt/anaconda3/lib/python3.12/site-packages (from uvicorn[standard]>=0.18.3->chromadb) (0.21.0)\r\n",
      "Requirement already satisfied: watchfiles>=0.13 in /opt/anaconda3/lib/python3.12/site-packages (from uvicorn[standard]>=0.18.3->chromadb) (1.0.4)\r\n",
      "Requirement already satisfied: websockets>=10.4 in /opt/anaconda3/lib/python3.12/site-packages (from uvicorn[standard]>=0.18.3->chromadb) (15.0)\r\n",
      "Requirement already satisfied: joblib>=1.2.0 in /opt/anaconda3/lib/python3.12/site-packages (from scikit-learn->sentence-transformers) (1.4.2)\r\n",
      "Requirement already satisfied: threadpoolctl>=2.0.0 in /opt/anaconda3/lib/python3.12/site-packages (from scikit-learn->sentence-transformers) (2.2.0)\r\n",
      "Requirement already satisfied: cachetools<6.0,>=2.0.0 in /opt/anaconda3/lib/python3.12/site-packages (from google-auth>=1.0.1->kubernetes>=28.1.0->chromadb) (5.3.3)\r\n",
      "Requirement already satisfied: pyasn1-modules>=0.2.1 in /opt/anaconda3/lib/python3.12/site-packages (from google-auth>=1.0.1->kubernetes>=28.1.0->chromadb) (0.2.8)\r\n",
      "Requirement already satisfied: rsa<5,>=3.1.4 in /opt/anaconda3/lib/python3.12/site-packages (from google-auth>=1.0.1->kubernetes>=28.1.0->chromadb) (4.9)\r\n",
      "Requirement already satisfied: zipp>=0.5 in /opt/anaconda3/lib/python3.12/site-packages (from importlib-metadata<=8.5.0,>=6.0->opentelemetry-api>=1.2.0->chromadb) (3.17.0)\r\n",
      "Requirement already satisfied: mdurl~=0.1 in /opt/anaconda3/lib/python3.12/site-packages (from markdown-it-py<3.0.0,>=2.2.0->rich>=10.11.0->chromadb) (0.1.0)\r\n",
      "Requirement already satisfied: charset-normalizer<4,>=2 in /opt/anaconda3/lib/python3.12/site-packages (from requests->huggingface-hub>=0.20.0->sentence-transformers) (2.0.4)\r\n",
      "Requirement already satisfied: humanfriendly>=9.1 in /opt/anaconda3/lib/python3.12/site-packages (from coloredlogs->onnxruntime>=1.14.1->chromadb) (10.0)\r\n",
      "Requirement already satisfied: MarkupSafe>=2.0 in /opt/anaconda3/lib/python3.12/site-packages (from jinja2->torch>=1.11.0->sentence-transformers) (2.1.3)\r\n",
      "Requirement already satisfied: pyasn1<0.5.0,>=0.4.6 in /opt/anaconda3/lib/python3.12/site-packages (from pyasn1-modules>=0.2.1->google-auth>=1.0.1->kubernetes>=28.1.0->chromadb) (0.4.8)\r\n"
     ]
    }
   ],
   "execution_count": 60
  },
  {
   "metadata": {
    "ExecuteTime": {
     "end_time": "2025-04-07T19:11:49.805145Z",
     "start_time": "2025-04-07T19:11:49.798948Z"
    }
   },
   "cell_type": "code",
   "source": [
    "# Import required libraries\n",
    "import os\n",
    "import re\n",
    "import PyPDF2\n",
    "import pandas as pd\n",
    "import numpy as np\n",
    "from tqdm import tqdm\n",
    "import chromadb\n",
    "from chromadb.utils import embedding_functions\n",
    "from openai import OpenAI\n",
    "import json\n",
    "from bert_score import score as bert_score\n",
    "import logging\n",
    "from pathlib import Path\n",
    "\n",
    "# Set up logging\n",
    "logging.basicConfig(level=logging.INFO)\n",
    "logger = logging.getLogger(__name__)\n",
    "\n",
    "# Silence non-critical errors from PyPDF\n",
    "logging.getLogger(\"PyPDF2\").setLevel(logging.CRITICAL)"
   ],
   "id": "926719a487baa87b",
   "outputs": [],
   "execution_count": 61
  },
  {
   "metadata": {
    "ExecuteTime": {
     "end_time": "2025-04-07T19:11:49.819412Z",
     "start_time": "2025-04-07T19:11:49.815104Z"
    }
   },
   "cell_type": "code",
   "source": [
    "# Documents loading functions\n",
    "\n",
    "def load_pdf_documents(data_dir=\"./data\"):\n",
    "    documents = []\n",
    "    data_path = Path(data_dir)\n",
    "\n",
    "    if not data_path.exists():\n",
    "        raise FileNotFoundError(f\"Data directory not found at {data_path.absolute()}\")\n",
    "\n",
    "    pdf_files = list(data_path.glob(\"*.pdf\"))\n",
    "    if not pdf_files:\n",
    "        raise FileNotFoundError(f\"No PDF files found in {data_path.absolute()}\")\n",
    "\n",
    "    for pdf_file in tqdm(pdf_files, desc=\"Processing PDFs\"):\n",
    "        try:\n",
    "            text = \"\"\n",
    "            with open(pdf_file, 'rb') as f:\n",
    "                reader = PyPDF2.PdfReader(f)\n",
    "                for page in reader.pages:\n",
    "                    text += page.extract_text() + \"\\n\"\n",
    "\n",
    "            documents.append({\n",
    "                'filepath': str(pdf_file.absolute()),\n",
    "                'filename': pdf_file.name,\n",
    "                'title': pdf_file.stem,\n",
    "                'text': text,\n",
    "                'source': 'CMU Official Documents'\n",
    "            })\n",
    "\n",
    "        except Exception as e:\n",
    "            logger.error(f\"Error processing {pdf_file.name}: {str(e)}\")\n",
    "            continue\n",
    "\n",
    "    return documents\n",
    "\n",
    "def clean_document_text(text):\n",
    "    text = ' '.join(text.split())\n",
    "    patterns = [r'page \\d+ of \\d+', r'confidential', r'©\\d+']\n",
    "    for pattern in patterns:\n",
    "        text = re.sub(pattern, '', text, flags=re.IGNORECASE)\n",
    "    return text\n"
   ],
   "id": "f3307554d703734c",
   "outputs": [],
   "execution_count": 62
  },
  {
   "metadata": {
    "ExecuteTime": {
     "end_time": "2025-04-07T19:11:49.828668Z",
     "start_time": "2025-04-07T19:11:49.825813Z"
    }
   },
   "cell_type": "code",
   "source": [
    "# Chunking Functions\n",
    "\n",
    "def chunk_documents(documents, chunk_size=1000, chunk_overlap=200):\n",
    "    chunks = []\n",
    "\n",
    "    for doc in tqdm(documents, desc=\"Chunking documents\"):\n",
    "        text = doc['text']\n",
    "        words = text.split()\n",
    "\n",
    "        for i in range(0, len(words), chunk_size - chunk_overlap):\n",
    "            chunk_words = words[i:i + chunk_size]\n",
    "            chunk_text = ' '.join(chunk_words)\n",
    "\n",
    "            chunks.append({\n",
    "                'text': chunk_text,\n",
    "                'document_title': doc['title'],\n",
    "                'document_source': doc['source'],\n",
    "                'chunk_id': f\"{doc['title']}_{len(chunk_text)}_{hash(chunk_text)}\",\n",
    "                'metadata': {\n",
    "                    'source': doc['source'],\n",
    "                    'title': doc['title'],\n",
    "                    'filepath': doc['filepath']\n",
    "                }\n",
    "            })\n",
    "\n",
    "    return chunks"
   ],
   "id": "5e83b078f005502",
   "outputs": [],
   "execution_count": 63
  },
  {
   "metadata": {
    "ExecuteTime": {
     "end_time": "2025-04-07T19:11:49.837484Z",
     "start_time": "2025-04-07T19:11:49.834602Z"
    }
   },
   "cell_type": "code",
   "source": [
    "# Vector Database Functions\n",
    "\n",
    "def setup_vector_database(chunks, collection_name=\"cmu_student_guide_2\"):\n",
    "    chroma_client = chromadb.PersistentClient(path=\"./chroma_db\")\n",
    "    embedding_func = embedding_functions.SentenceTransformerEmbeddingFunction(\n",
    "        model_name=\"all-MiniLM-L6-v2\"\n",
    "    )\n",
    "\n",
    "    collection = chroma_client.create_collection(\n",
    "        name=collection_name,\n",
    "        embedding_function=embedding_func\n",
    "    )\n",
    "\n",
    "    for i in tqdm(range(0, len(chunks), 100), desc=\"Indexing documents\"):\n",
    "        batch = chunks[i:i + 100]\n",
    "        collection.add(\n",
    "            documents=[chunk['text'] for chunk in batch],\n",
    "            metadatas=[chunk['metadata'] for chunk in batch],\n",
    "            ids=[chunk['chunk_id'] for chunk in batch]\n",
    "        )\n",
    "\n",
    "    return collection\n"
   ],
   "id": "1a8365def3b67c86",
   "outputs": [],
   "execution_count": 64
  },
  {
   "metadata": {
    "ExecuteTime": {
     "end_time": "2025-04-07T19:11:49.845871Z",
     "start_time": "2025-04-07T19:11:49.843342Z"
    }
   },
   "cell_type": "code",
   "source": [
    "# Retrival Functions\n",
    "\n",
    "def retrieve_relevant_chunks(collection, query, top_k=3):\n",
    "    \"\"\"Retrieve relevant document chunks for a query\"\"\"\n",
    "    results = collection.query(\n",
    "        query_texts=[query],\n",
    "        n_results=top_k,\n",
    "        include=[\"documents\", \"metadatas\", \"distances\"]\n",
    "    )\n",
    "\n",
    "    # Convert distances to similarity scores\n",
    "    results['scores'] = [1 - distance for distance in results['distances'][0]]\n",
    "    return results"
   ],
   "id": "178d951321e582ed",
   "outputs": [],
   "execution_count": 65
  },
  {
   "metadata": {
    "ExecuteTime": {
     "end_time": "2025-04-07T19:11:49.858687Z",
     "start_time": "2025-04-07T19:11:49.856089Z"
    }
   },
   "cell_type": "code",
   "source": [
    "# Generation Functions\n",
    "\n",
    "def generate_answer(openai_client, query, retrieved_chunks):\n",
    "    context = \"\\n\\n\".join([\n",
    "        f\"Source: {meta['title']}\\n{doc}\"\n",
    "        for doc, meta in zip(retrieved_chunks['documents'][0],\n",
    "                            retrieved_chunks['metadatas'][0])\n",
    "    ])\n",
    "\n",
    "    prompt = f\"\"\"\n",
    "    You are a helpful CMU assistant. Answer based ONLY on this context:\n",
    "\n",
    "    {context}\n",
    "\n",
    "    Question: {query}\n",
    "\n",
    "    Answer concisely and cite sources. If unsure, say you don't know.\n",
    "    \"\"\"\n",
    "\n",
    "    response = openai_client.chat.completions.create(\n",
    "        model=\"gpt-4\",\n",
    "        messages=[\n",
    "            {\"role\": \"system\", \"content\": \"You are a factual CMU student assistant.\"},\n",
    "            {\"role\": \"user\", \"content\": prompt}\n",
    "        ],\n",
    "        temperature=0.2\n",
    "    )\n",
    "\n",
    "    return response.choices[0].message.content"
   ],
   "id": "fac3d16e05e572fc",
   "outputs": [],
   "execution_count": 66
  },
  {
   "metadata": {
    "ExecuteTime": {
     "end_time": "2025-04-07T19:11:49.863543Z",
     "start_time": "2025-04-07T19:11:49.861397Z"
    }
   },
   "cell_type": "code",
   "source": [
    "# Query Pipeline\n",
    "\n",
    "def query_cmu_knowledge(collection, openai_client, question, top_k=3):\n",
    "    try:\n",
    "        retrieved_chunks = retrieve_relevant_chunks(collection, question, top_k)\n",
    "        answer = generate_answer(openai_client, question, retrieved_chunks)\n",
    "\n",
    "        return {\n",
    "            \"question\": question,\n",
    "            \"answer\": answer,\n",
    "            \"sources\": retrieved_chunks['metadatas'][0]\n",
    "        }\n",
    "    except Exception as e:\n",
    "        logger.error(f\"Query failed: {str(e)}\")\n",
    "        return {\n",
    "            \"question\": question,\n",
    "            \"answer\": \"Sorry, I couldn't process your question. Please contact The HUB.\",\n",
    "            \"sources\": []\n",
    "        }"
   ],
   "id": "1dace1ee29ecb9f6",
   "outputs": [],
   "execution_count": 67
  },
  {
   "metadata": {
    "ExecuteTime": {
     "end_time": "2025-04-07T19:11:49.871713Z",
     "start_time": "2025-04-07T19:11:49.868805Z"
    }
   },
   "cell_type": "code",
   "source": [
    "# Evaluation Functions\n",
    "\n",
    "def evaluate_response(generated_answer, reference_answer):\n",
    "    P, R, F1 = bert_score([generated_answer], [reference_answer], lang='en')\n",
    "    return {\n",
    "        \"bertscore_precision\": P.mean().item(),\n",
    "        \"bertscore_recall\": R.mean().item(),\n",
    "        \"bertscore_f1\": F1.mean().item()\n",
    "    }\n",
    "\n",
    "def run_evaluation(collection, openai_client, test_cases):\n",
    "    results = []\n",
    "    for case in test_cases:\n",
    "        response = query_cmu_knowledge(collection, openai_client, case['question'])\n",
    "        metrics = evaluate_response(response['answer'], case['answer'])\n",
    "        results.append({\n",
    "            \"question\": case['question'],\n",
    "            \"generated_answer\": response['answer'],\n",
    "            \"reference_answer\": case['answer'],\n",
    "            **metrics\n",
    "        })\n",
    "    return pd.DataFrame(results)"
   ],
   "id": "1d3b902b8b75e970",
   "outputs": [],
   "execution_count": 68
  },
  {
   "metadata": {
    "ExecuteTime": {
     "end_time": "2025-04-07T19:11:54.910477Z",
     "start_time": "2025-04-07T19:11:49.877527Z"
    }
   },
   "cell_type": "code",
   "source": [
    "# Usage\n",
    "\n",
    "\n",
    "documents = load_pdf_documents(\"./data\")\n",
    "chunks = chunk_documents(documents)\n",
    "collection = setup_vector_database(chunks)\n",
    "openai_client = OpenAI(api_key=os.getenv(\"OPENAI_API_KEY\"))\n",
    "\n",
    "response = query_cmu_knowledge(\n",
    "    collection,\n",
    "    openai_client,\n",
    "    \"What is the deadline to add a course?\"\n",
    ")\n",
    "print(f\"Q: {response['question']}\")\n",
    "print(f\"A: {response['answer']}\")\n",
    "print(\"Sources:\")\n",
    "for source in response['sources']:\n",
    "    print(f\"- {source['title']}\")\n",
    "\n",
    "# Sample evaluation\n",
    "test_cases = [\n",
    "    {\n",
    "        \"question\": \"How do I access library resources?\",\n",
    "        \"answer\": \"Use your Andrew ID at the library website\"\n",
    "    }\n",
    "]\n",
    "evaluation_df = run_evaluation(collection, openai_client, test_cases)\n",
    "print(evaluation_df)"
   ],
   "id": "3fc35d359eb3613e",
   "outputs": [
    {
     "name": "stderr",
     "output_type": "stream",
     "text": [
      "Processing PDFs: 100%|██████████| 10/10 [00:00<00:00, 20.52it/s]\n",
      "Chunking documents: 100%|██████████| 10/10 [00:00<00:00, 16156.80it/s]\n",
      "Indexing documents:   0%|          | 0/1 [00:00<?, ?it/s]"
     ]
    },
    {
     "data": {
      "text/plain": [
       "Batches:   0%|          | 0/1 [00:00<?, ?it/s]"
      ],
      "application/vnd.jupyter.widget-view+json": {
       "version_major": 2,
       "version_minor": 0,
       "model_id": "d591ad7ed25c4d28af3ee5a50bc4f472"
      }
     },
     "metadata": {},
     "output_type": "display_data"
    },
    {
     "name": "stderr",
     "output_type": "stream",
     "text": [
      "Indexing documents: 100%|██████████| 1/1 [00:00<00:00,  3.28it/s]\n"
     ]
    },
    {
     "data": {
      "text/plain": [
       "Batches:   0%|          | 0/1 [00:00<?, ?it/s]"
      ],
      "application/vnd.jupyter.widget-view+json": {
       "version_major": 2,
       "version_minor": 0,
       "model_id": "56d1eab518134fa0a0ff20f248c9af0f"
      }
     },
     "metadata": {},
     "output_type": "display_data"
    },
    {
     "name": "stderr",
     "output_type": "stream",
     "text": [
      "INFO:httpx:HTTP Request: POST https://api.openai.com/v1/chat/completions \"HTTP/1.1 403 Forbidden\"\n",
      "ERROR:__main__:Query failed: Error code: 403 - {'error': {'message': 'Project `proj_oS3d7Rnjgr141tDhCN7hZohr` does not have access to model `gpt-4`', 'type': 'invalid_request_error', 'param': None, 'code': 'model_not_found'}}\n"
     ]
    },
    {
     "name": "stdout",
     "output_type": "stream",
     "text": [
      "Q: What is the deadline to add a course?\n",
      "A: Sorry, I couldn't process your question. Please contact The HUB.\n",
      "Sources:\n"
     ]
    },
    {
     "data": {
      "text/plain": [
       "Batches:   0%|          | 0/1 [00:00<?, ?it/s]"
      ],
      "application/vnd.jupyter.widget-view+json": {
       "version_major": 2,
       "version_minor": 0,
       "model_id": "b6bb8f53fb044a2eb39ac2d6b5cb4c00"
      }
     },
     "metadata": {},
     "output_type": "display_data"
    },
    {
     "name": "stderr",
     "output_type": "stream",
     "text": [
      "INFO:httpx:HTTP Request: POST https://api.openai.com/v1/chat/completions \"HTTP/1.1 403 Forbidden\"\n",
      "ERROR:__main__:Query failed: Error code: 403 - {'error': {'message': 'Project `proj_oS3d7Rnjgr141tDhCN7hZohr` does not have access to model `gpt-4`', 'type': 'invalid_request_error', 'param': None, 'code': 'model_not_found'}}\n",
      "Some weights of RobertaModel were not initialized from the model checkpoint at roberta-large and are newly initialized: ['roberta.pooler.dense.bias', 'roberta.pooler.dense.weight']\n",
      "You should probably TRAIN this model on a down-stream task to be able to use it for predictions and inference.\n"
     ]
    },
    {
     "name": "stdout",
     "output_type": "stream",
     "text": [
      "                             question  \\\n",
      "0  How do I access library resources?   \n",
      "\n",
      "                                    generated_answer  \\\n",
      "0  Sorry, I couldn't process your question. Pleas...   \n",
      "\n",
      "                            reference_answer  bertscore_precision  \\\n",
      "0  Use your Andrew ID at the library website             0.836391   \n",
      "\n",
      "   bertscore_recall  bertscore_f1  \n",
      "0          0.845007      0.840677  \n"
     ]
    }
   ],
   "execution_count": 69
  },
  {
   "metadata": {
    "ExecuteTime": {
     "end_time": "2025-04-07T19:18:16.366209Z",
     "start_time": "2025-04-07T19:18:13.924365Z"
    }
   },
   "cell_type": "code",
   "source": [
    "# !pip install --upgrade openai\n",
    "from openai import OpenAI\n",
    "import os\n",
    "\n",
    "client = OpenAI(\n",
    "    api_key=os.getenv(\"OPENAI_API_KEY\"),\n",
    ")\n",
    "\n",
    "def cmu_prompt_model(prompt):\n",
    "    \"\"\"\n",
    "    CMU-specific prompt model with:\n",
    "    - Structured academic responses\n",
    "    - CMU knowledge base context\n",
    "    - Error handling for student queries\n",
    "    \"\"\"\n",
    "    try:\n",
    "        completion = client.chat.completions.create(\n",
    "            model=\"gpt-3.5-turbo\",\n",
    "            messages=[\n",
    "                {\n",
    "                    \"role\": \"system\",\n",
    "                    \"content\": \"\"\"You are 'Andrew', the official CMU student assistant.\n",
    "                    Provide accurate information about Carnegie Mellon University including:\n",
    "                    - Academic policies\n",
    "                    - Course registration\n",
    "                    - Campus resources\n",
    "                    - Important deadlines\n",
    "                    Cite official sources when possible.\"\"\"\n",
    "                },\n",
    "                {\n",
    "                    \"role\": \"user\",\n",
    "                    \"content\": prompt\n",
    "                }\n",
    "            ],\n",
    "            temperature=0.3\n",
    "        )\n",
    "        return completion.choices[0].message.content\n",
    "\n",
    "    except Exception as e:\n",
    "        return f\"\"\"I couldn't access CMU information. Please:\n",
    "        1. Visit thehub.cmu.edu\n",
    "        2. Contact (412) 268-8186\n",
    "        Error: {str(e)}\"\"\"\n",
    "\n",
    "response = cmu_prompt_model(\"Who is Cathleen Kisak?\")\n",
    "print(response)"
   ],
   "id": "d276a1fcd16bbe72",
   "outputs": [
    {
     "name": "stderr",
     "output_type": "stream",
     "text": [
      "INFO:httpx:HTTP Request: POST https://api.openai.com/v1/chat/completions \"HTTP/1.1 200 OK\"\n"
     ]
    },
    {
     "name": "stdout",
     "output_type": "stream",
     "text": [
      "Cathleen Kisak is the Associate Vice President for Student Affairs at Carnegie Mellon University. She oversees various departments within Student Affairs, including the Center for Student Diversity and Inclusion, the Office of the Dean of Students, and the Office of Student Leadership, Involvement, and Civic Engagement. Her role involves supporting student success and well-being at the university. You can find more information about her on the Carnegie Mellon University website or the Student Affairs page.\n"
     ]
    }
   ],
   "execution_count": 75
  },
  {
   "metadata": {},
   "cell_type": "code",
   "outputs": [],
   "execution_count": null,
   "source": "",
   "id": "9e6bc296cdfb1540"
  }
 ],
 "metadata": {
  "kernelspec": {
   "display_name": "Python 3",
   "language": "python",
   "name": "python3"
  },
  "language_info": {
   "codemirror_mode": {
    "name": "ipython",
    "version": 2
   },
   "file_extension": ".py",
   "mimetype": "text/x-python",
   "name": "python",
   "nbconvert_exporter": "python",
   "pygments_lexer": "ipython2",
   "version": "2.7.6"
  }
 },
 "nbformat": 4,
 "nbformat_minor": 5
}
